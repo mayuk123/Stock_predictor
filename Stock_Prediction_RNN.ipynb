{
 "cells": [
  {
   "cell_type": "code",
   "execution_count": 2,
   "id": "677d479b",
   "metadata": {},
   "outputs": [
    {
     "name": "stdout",
     "output_type": "stream",
     "text": [
      "Requirement already satisfied: pandas_datareader in c:\\users\\lenovo\\onedrive\\documents\\new\\lib\\site-packages (0.10.0)\n",
      "Requirement already satisfied: pandas>=0.23 in c:\\users\\lenovo\\onedrive\\documents\\new\\lib\\site-packages (from pandas_datareader) (1.3.4)\n",
      "Requirement already satisfied: requests>=2.19.0 in c:\\users\\lenovo\\onedrive\\documents\\new\\lib\\site-packages (from pandas_datareader) (2.26.0)\n",
      "Requirement already satisfied: lxml in c:\\users\\lenovo\\onedrive\\documents\\new\\lib\\site-packages (from pandas_datareader) (4.6.3)\n",
      "Requirement already satisfied: numpy>=1.17.3 in c:\\users\\lenovo\\onedrive\\documents\\new\\lib\\site-packages (from pandas>=0.23->pandas_datareader) (1.20.3)\n",
      "Requirement already satisfied: pytz>=2017.3 in c:\\users\\lenovo\\onedrive\\documents\\new\\lib\\site-packages (from pandas>=0.23->pandas_datareader) (2021.3)\n",
      "Requirement already satisfied: python-dateutil>=2.7.3 in c:\\users\\lenovo\\onedrive\\documents\\new\\lib\\site-packages (from pandas>=0.23->pandas_datareader) (2.8.2)\n",
      "Requirement already satisfied: certifi>=2017.4.17 in c:\\users\\lenovo\\onedrive\\documents\\new\\lib\\site-packages (from requests>=2.19.0->pandas_datareader) (2021.10.8)\n",
      "Requirement already satisfied: idna<4,>=2.5 in c:\\users\\lenovo\\onedrive\\documents\\new\\lib\\site-packages (from requests>=2.19.0->pandas_datareader) (3.2)\n",
      "Requirement already satisfied: urllib3<1.27,>=1.21.1 in c:\\users\\lenovo\\onedrive\\documents\\new\\lib\\site-packages (from requests>=2.19.0->pandas_datareader) (1.26.7)\n",
      "Requirement already satisfied: charset-normalizer~=2.0.0 in c:\\users\\lenovo\\onedrive\\documents\\new\\lib\\site-packages (from requests>=2.19.0->pandas_datareader) (2.0.4)\n",
      "Requirement already satisfied: six>=1.5 in c:\\users\\lenovo\\onedrive\\documents\\new\\lib\\site-packages (from python-dateutil>=2.7.3->pandas>=0.23->pandas_datareader) (1.16.0)\n"
     ]
    },
    {
     "name": "stderr",
     "output_type": "stream",
     "text": [
      "WARNING: You are using pip version 22.0.3; however, version 22.0.4 is available.\n",
      "You should consider upgrading via the 'C:\\Users\\lenovo\\OneDrive\\Documents\\new\\python.exe -m pip install --upgrade pip' command.\n"
     ]
    }
   ],
   "source": [
    "!pip install pandas_datareader"
   ]
  },
  {
   "cell_type": "code",
   "execution_count": 16,
   "id": "e138daec",
   "metadata": {},
   "outputs": [],
   "source": [
    "import pandas_datareader as pdr\n",
    "import datetime\n",
    "import pandas as pd\n",
    "import matplotlib.pyplot as plt\n",
    "%matplotlib inLine"
   ]
  },
  {
   "cell_type": "code",
   "execution_count": 18,
   "id": "0dd60be2",
   "metadata": {},
   "outputs": [
    {
     "data": {
      "text/plain": [
       "<AxesSubplot:>"
      ]
     },
     "execution_count": 18,
     "metadata": {},
     "output_type": "execute_result"
    },
    {
     "data": {
      "image/png": "[encoded data removed]",
      "text/plain": [
       "<Figure size 432x288 with 1 Axes>"
      ]
     },
     "metadata": {
      "needs_background": "light"
     },
     "output_type": "display_data"
    }
   ],
   "source": [
    "ril=pd.read_csv(\"C:/Users/lenovo/Downloads/RELIANCE.NS (1).csv\")\n",
    "ril.plot(kind='bar')"
   ]
  },
  {
   "cell_type": "code",
   "execution_count": 19,
   "id": "c197d030",
   "metadata": {
    "scrolled": true
   },
   "outputs": [
    {
     "data": {
      "text/plain": [
       "pandas.core.frame.DataFrame"
      ]
     },
     "execution_count": 19,
     "metadata": {},
     "output_type": "execute_result"
    }
   ],
   "source": [
    "type(ril)"
   ]
  },
  {
   "cell_type": "code",
   "execution_count": 20,
   "id": "240b3095",
   "metadata": {},
   "outputs": [
    {
     "data": {
      "text/html": [
       "<div>\n",
       "<style scoped>\n",
       "    .dataframe tbody tr th:only-of-type {\n",
       "        vertical-align: middle;\n",
       "    }\n",
       "\n",
       "    .dataframe tbody tr th {\n",
       "        vertical-align: top;\n",
       "    }\n",
       "\n",
       "    .dataframe thead th {\n",
       "        text-align: right;\n",
       "    }\n",
       "</style>\n",
       "<table border=\"1\" class=\"dataframe\">\n",
       "  <thead>\n",
       "    <tr style=\"text-align: right;\">\n",
       "      <th></th>\n",
       "      <th>Open</th>\n",
       "      <th>High</th>\n",
       "      <th>Low</th>\n",
       "      <th>Close</th>\n",
       "      <th>Adj Close</th>\n",
       "      <th>Volume</th>\n",
       "    </tr>\n",
       "  </thead>\n",
       "  <tbody>\n",
       "    <tr>\n",
       "      <th>count</th>\n",
       "      <td>247.000000</td>\n",
       "      <td>247.000000</td>\n",
       "      <td>247.000000</td>\n",
       "      <td>247.000000</td>\n",
       "      <td>247.000000</td>\n",
       "      <td>2.470000e+02</td>\n",
       "    </tr>\n",
       "    <tr>\n",
       "      <th>mean</th>\n",
       "      <td>2274.207286</td>\n",
       "      <td>2297.113351</td>\n",
       "      <td>2248.459120</td>\n",
       "      <td>2271.512151</td>\n",
       "      <td>2269.827855</td>\n",
       "      <td>7.050719e+06</td>\n",
       "    </tr>\n",
       "    <tr>\n",
       "      <th>std</th>\n",
       "      <td>214.589888</td>\n",
       "      <td>216.947323</td>\n",
       "      <td>210.367297</td>\n",
       "      <td>213.887354</td>\n",
       "      <td>215.792416</td>\n",
       "      <td>4.187588e+06</td>\n",
       "    </tr>\n",
       "    <tr>\n",
       "      <th>min</th>\n",
       "      <td>1892.250000</td>\n",
       "      <td>1914.449951</td>\n",
       "      <td>1876.699951</td>\n",
       "      <td>1901.150024</td>\n",
       "      <td>1895.053833</td>\n",
       "      <td>7.871600e+05</td>\n",
       "    </tr>\n",
       "    <tr>\n",
       "      <th>25%</th>\n",
       "      <td>2096.599976</td>\n",
       "      <td>2111.349976</td>\n",
       "      <td>2080.750000</td>\n",
       "      <td>2088.550049</td>\n",
       "      <td>2088.066407</td>\n",
       "      <td>4.751403e+06</td>\n",
       "    </tr>\n",
       "    <tr>\n",
       "      <th>50%</th>\n",
       "      <td>2280.100098</td>\n",
       "      <td>2317.850098</td>\n",
       "      <td>2255.000000</td>\n",
       "      <td>2283.949951</td>\n",
       "      <td>2283.949951</td>\n",
       "      <td>6.081627e+06</td>\n",
       "    </tr>\n",
       "    <tr>\n",
       "      <th>75%</th>\n",
       "      <td>2436.050049</td>\n",
       "      <td>2459.525024</td>\n",
       "      <td>2406.474976</td>\n",
       "      <td>2429.349976</td>\n",
       "      <td>2429.349976</td>\n",
       "      <td>7.938278e+06</td>\n",
       "    </tr>\n",
       "    <tr>\n",
       "      <th>max</th>\n",
       "      <td>2742.750000</td>\n",
       "      <td>2751.350098</td>\n",
       "      <td>2708.000000</td>\n",
       "      <td>2731.850098</td>\n",
       "      <td>2731.850098</td>\n",
       "      <td>4.220969e+07</td>\n",
       "    </tr>\n",
       "  </tbody>\n",
       "</table>\n",
       "</div>"
      ],
      "text/plain": [
       "              Open         High          Low        Close    Adj Close  \\\n",
       "count   247.000000   247.000000   247.000000   247.000000   247.000000   \n",
       "mean   2274.207286  2297.113351  2248.459120  2271.512151  2269.827855   \n",
       "std     214.589888   216.947323   210.367297   213.887354   215.792416   \n",
       "min    1892.250000  1914.449951  1876.699951  1901.150024  1895.053833   \n",
       "25%    2096.599976  2111.349976  2080.750000  2088.550049  2088.066407   \n",
       "50%    2280.100098  2317.850098  2255.000000  2283.949951  2283.949951   \n",
       "75%    2436.050049  2459.525024  2406.474976  2429.349976  2429.349976   \n",
       "max    2742.750000  2751.350098  2708.000000  2731.850098  2731.850098   \n",
       "\n",
       "             Volume  \n",
       "count  2.470000e+02  \n",
       "mean   7.050719e+06  \n",
       "std    4.187588e+06  \n",
       "min    7.871600e+05  \n",
       "25%    4.751403e+06  \n",
       "50%    6.081627e+06  \n",
       "75%    7.938278e+06  \n",
       "max    4.220969e+07  "
      ]
     },
     "execution_count": 20,
     "metadata": {},
     "output_type": "execute_result"
    }
   ],
   "source": [
    "ril.describe()"
   ]
  },
  {
   "cell_type": "code",
   "execution_count": 21,
   "id": "0a4e8652",
   "metadata": {},
   "outputs": [],
   "source": [
    "import matplotlib.pyplot as plt\n",
    "import numpy as np"
   ]
  },
  {
   "cell_type": "code",
   "execution_count": 22,
   "id": "94fe4592",
   "metadata": {},
   "outputs": [
    {
     "data": {
      "image/png": "[encoded data removed]",
      "text/plain": [
       "<Figure size 1152x288 with 1 Axes>"
      ]
     },
     "metadata": {
      "needs_background": "light"
     },
     "output_type": "display_data"
    }
   ],
   "source": [
    "ril['Open'].plot(label='open price',figsize=(16,4))\n",
    "ril['High'].plot(label='Volume traded',figsize=(16,4))\n",
    "plt.xlabel('Date')\n",
    "plt.ylabel('price')\n",
    "plt.title('Stock Prices')\n",
    "plt.legend()\n",
    "plt.show()"
   ]
  },
  {
   "cell_type": "code",
   "execution_count": 23,
   "id": "a0d2bf36",
   "metadata": {},
   "outputs": [
    {
     "name": "stdout",
     "output_type": "stream",
     "text": [
      "<class 'pandas.core.frame.DataFrame'>\n",
      "RangeIndex: 247 entries, 0 to 246\n",
      "Data columns (total 7 columns):\n",
      " #   Column     Non-Null Count  Dtype  \n",
      "---  ------     --------------  -----  \n",
      " 0   Date       247 non-null    object \n",
      " 1   Open       247 non-null    float64\n",
      " 2   High       247 non-null    float64\n",
      " 3   Low        247 non-null    float64\n",
      " 4   Close      247 non-null    float64\n",
      " 5   Adj Close  247 non-null    float64\n",
      " 6   Volume     247 non-null    int64  \n",
      "dtypes: float64(5), int64(1), object(1)\n",
      "memory usage: 13.6+ KB\n"
     ]
    }
   ],
   "source": [
    "ril.info()"
   ]
  },
  {
   "cell_type": "code",
   "execution_count": 24,
   "id": "3808a992",
   "metadata": {},
   "outputs": [
    {
     "data": {
      "text/plain": [
       "<AxesSubplot:>"
      ]
     },
     "execution_count": 24,
     "metadata": {},
     "output_type": "execute_result"
    },
    {
     "data": {
      "image/png": "[encoded data removed]",
      "text/plain": [
       "<Figure size 1152x288 with 1 Axes>"
      ]
     },
     "metadata": {
      "needs_background": "light"
     },
     "output_type": "display_data"
    }
   ],
   "source": [
    "ril['Open'].plot(figsize=(16,4))"
   ]
  },
  {
   "cell_type": "code",
   "execution_count": 25,
   "id": "ce77d07c",
   "metadata": {},
   "outputs": [],
   "source": [
    "training_set=ril['Open']\n",
    "training_set=pd.DataFrame(training_set)"
   ]
  },
  {
   "cell_type": "code",
   "execution_count": 26,
   "id": "cc972527",
   "metadata": {},
   "outputs": [
    {
     "data": {
      "text/plain": [
       "Date         False\n",
       "Open         False\n",
       "High         False\n",
       "Low          False\n",
       "Close        False\n",
       "Adj Close    False\n",
       "Volume       False\n",
       "dtype: bool"
      ]
     },
     "execution_count": 26,
     "metadata": {},
     "output_type": "execute_result"
    }
   ],
   "source": [
    "#data_cleaning\n",
    "ril.isna().any()"
   ]
  },
  {
   "cell_type": "code",
   "execution_count": 27,
   "id": "443b72f1",
   "metadata": {},
   "outputs": [],
   "source": [
    "#feature scaling\n",
    "from sklearn.preprocessing import MinMaxScaler\n",
    "sc=MinMaxScaler(feature_range=(0,1))\n",
    "training_set_scaled=sc.fit_transform(training_set)"
   ]
  },
  {
   "cell_type": "code",
   "execution_count": 29,
   "id": "fc40dadf",
   "metadata": {},
   "outputs": [],
   "source": [
    "#creating a data structure with 60 timesteps and 1 output\n",
    "X_train=[]\n",
    "y_train=[]\n",
    "for i in range(60,247):\n",
    "    X_train.append(training_set_scaled[i-60:i,0])\n",
    "    y_train.append(training_set_scaled[i,0])\n",
    "X_train,y_train=np.array(X_train),np.array(y_train)\n",
    "\n",
    "#Reshaping\n",
    "X_train=np.reshape(X_train,(X_train.shape[0],X_train.shape[1],1))"
   ]
  },
  {
   "cell_type": "code",
   "execution_count": 30,
   "id": "072367dc",
   "metadata": {},
   "outputs": [
    {
     "name": "stdout",
     "output_type": "stream",
     "text": [
      "Requirement already satisfied: keras in c:\\users\\lenovo\\onedrive\\documents\\new\\lib\\site-packages (2.8.0)\n"
     ]
    },
    {
     "name": "stderr",
     "output_type": "stream",
     "text": [
      "WARNING: You are using pip version 22.0.3; however, version 22.0.4 is available.\n",
      "You should consider upgrading via the 'C:\\Users\\lenovo\\OneDrive\\Documents\\new\\python.exe -m pip install --upgrade pip' command.\n"
     ]
    }
   ],
   "source": [
    "!pip install keras"
   ]
  },
  {
   "cell_type": "code",
   "execution_count": 31,
   "id": "290f9e92",
   "metadata": {},
   "outputs": [
    {
     "name": "stdout",
     "output_type": "stream",
     "text": [
      "Requirement already satisfied: tensorflow in c:\\users\\lenovo\\onedrive\\documents\\new\\lib\\site-packages (2.8.0)\n",
      "Requirement already satisfied: keras<2.9,>=2.8.0rc0 in c:\\users\\lenovo\\onedrive\\documents\\new\\lib\\site-packages (from tensorflow) (2.8.0)\n",
      "Requirement already satisfied: wrapt>=1.11.0 in c:\\users\\lenovo\\onedrive\\documents\\new\\lib\\site-packages (from tensorflow) (1.12.1)\n",
      "Requirement already satisfied: gast>=0.2.1 in c:\\users\\lenovo\\onedrive\\documents\\new\\lib\\site-packages (from tensorflow) (0.5.3)\n",
      "Requirement already satisfied: astunparse>=1.6.0 in c:\\users\\lenovo\\onedrive\\documents\\new\\lib\\site-packages (from tensorflow) (1.6.3)\n",
      "Requirement already satisfied: tensorboard<2.9,>=2.8 in c:\\users\\lenovo\\onedrive\\documents\\new\\lib\\site-packages (from tensorflow) (2.8.0)\n",
      "Requirement already satisfied: tensorflow-io-gcs-filesystem>=0.23.1 in c:\\users\\lenovo\\onedrive\\documents\\new\\lib\\site-packages (from tensorflow) (0.24.0)\n",
      "Requirement already satisfied: opt-einsum>=2.3.2 in c:\\users\\lenovo\\onedrive\\documents\\new\\lib\\site-packages (from tensorflow) (3.3.0)\n",
      "Requirement already satisfied: six>=1.12.0 in c:\\users\\lenovo\\onedrive\\documents\\new\\lib\\site-packages (from tensorflow) (1.16.0)\n",
      "Requirement already satisfied: numpy>=1.20 in c:\\users\\lenovo\\onedrive\\documents\\new\\lib\\site-packages (from tensorflow) (1.20.3)\n",
      "Requirement already satisfied: termcolor>=1.1.0 in c:\\users\\lenovo\\onedrive\\documents\\new\\lib\\site-packages (from tensorflow) (1.1.0)\n",
      "Requirement already satisfied: setuptools in c:\\users\\lenovo\\onedrive\\documents\\new\\lib\\site-packages (from tensorflow) (58.0.4)\n",
      "Requirement already satisfied: google-pasta>=0.1.1 in c:\\users\\lenovo\\onedrive\\documents\\new\\lib\\site-packages (from tensorflow) (0.2.0)\n",
      "Requirement already satisfied: grpcio<2.0,>=1.24.3 in c:\\users\\lenovo\\onedrive\\documents\\new\\lib\\site-packages (from tensorflow) (1.44.0)\n",
      "Requirement already satisfied: keras-preprocessing>=1.1.1 in c:\\users\\lenovo\\onedrive\\documents\\new\\lib\\site-packages (from tensorflow) (1.1.2)\n",
      "Requirement already satisfied: flatbuffers>=1.12 in c:\\users\\lenovo\\onedrive\\documents\\new\\lib\\site-packages (from tensorflow) (2.0)\n",
      "Requirement already satisfied: typing-extensions>=3.6.6 in c:\\users\\lenovo\\onedrive\\documents\\new\\lib\\site-packages (from tensorflow) (3.10.0.2)\n",
      "Requirement already satisfied: absl-py>=0.4.0 in c:\\users\\lenovo\\onedrive\\documents\\new\\lib\\site-packages (from tensorflow) (1.0.0)\n",
      "Requirement already satisfied: tf-estimator-nightly==2.8.0.dev2021122109 in c:\\users\\lenovo\\onedrive\\documents\\new\\lib\\site-packages (from tensorflow) (2.8.0.dev2021122109)\n",
      "Requirement already satisfied: h5py>=2.9.0 in c:\\users\\lenovo\\onedrive\\documents\\new\\lib\\site-packages (from tensorflow) (3.2.1)\n",
      "Requirement already satisfied: protobuf>=3.9.2 in c:\\users\\lenovo\\onedrive\\documents\\new\\lib\\site-packages (from tensorflow) (3.19.3)\n",
      "Requirement already satisfied: libclang>=9.0.1 in c:\\users\\lenovo\\onedrive\\documents\\new\\lib\\site-packages (from tensorflow) (13.0.0)\n",
      "Requirement already satisfied: wheel<1.0,>=0.23.0 in c:\\users\\lenovo\\onedrive\\documents\\new\\lib\\site-packages (from astunparse>=1.6.0->tensorflow) (0.37.0)\n",
      "Requirement already satisfied: google-auth<3,>=1.6.3 in c:\\users\\lenovo\\onedrive\\documents\\new\\lib\\site-packages (from tensorboard<2.9,>=2.8->tensorflow) (2.6.0)\n",
      "Requirement already satisfied: werkzeug>=0.11.15 in c:\\users\\lenovo\\onedrive\\documents\\new\\lib\\site-packages (from tensorboard<2.9,>=2.8->tensorflow) (2.0.2)\n",
      "Requirement already satisfied: requests<3,>=2.21.0 in c:\\users\\lenovo\\onedrive\\documents\\new\\lib\\site-packages (from tensorboard<2.9,>=2.8->tensorflow) (2.26.0)\n",
      "Requirement already satisfied: markdown>=2.6.8 in c:\\users\\lenovo\\onedrive\\documents\\new\\lib\\site-packages (from tensorboard<2.9,>=2.8->tensorflow) (3.3.6)\n",
      "Requirement already satisfied: google-auth-oauthlib<0.5,>=0.4.1 in c:\\users\\lenovo\\onedrive\\documents\\new\\lib\\site-packages (from tensorboard<2.9,>=2.8->tensorflow) (0.4.6)\n",
      "Requirement already satisfied: tensorboard-data-server<0.7.0,>=0.6.0 in c:\\users\\lenovo\\onedrive\\documents\\new\\lib\\site-packages (from tensorboard<2.9,>=2.8->tensorflow) (0.6.1)\n",
      "Requirement already satisfied: tensorboard-plugin-wit>=1.6.0 in c:\\users\\lenovo\\onedrive\\documents\\new\\lib\\site-packages (from tensorboard<2.9,>=2.8->tensorflow) (1.8.1)\n",
      "Requirement already satisfied: rsa<5,>=3.1.4 in c:\\users\\lenovo\\onedrive\\documents\\new\\lib\\site-packages (from google-auth<3,>=1.6.3->tensorboard<2.9,>=2.8->tensorflow) (4.8)\n",
      "Requirement already satisfied: pyasn1-modules>=0.2.1 in c:\\users\\lenovo\\onedrive\\documents\\new\\lib\\site-packages (from google-auth<3,>=1.6.3->tensorboard<2.9,>=2.8->tensorflow) (0.2.8)\n",
      "Requirement already satisfied: cachetools<6.0,>=2.0.0 in c:\\users\\lenovo\\onedrive\\documents\\new\\lib\\site-packages (from google-auth<3,>=1.6.3->tensorboard<2.9,>=2.8->tensorflow) (5.0.0)\n",
      "Requirement already satisfied: requests-oauthlib>=0.7.0 in c:\\users\\lenovo\\onedrive\\documents\\new\\lib\\site-packages (from google-auth-oauthlib<0.5,>=0.4.1->tensorboard<2.9,>=2.8->tensorflow) (1.3.1)\n",
      "Requirement already satisfied: importlib-metadata>=4.4 in c:\\users\\lenovo\\onedrive\\documents\\new\\lib\\site-packages (from markdown>=2.6.8->tensorboard<2.9,>=2.8->tensorflow) (4.8.1)\n",
      "Requirement already satisfied: urllib3<1.27,>=1.21.1 in c:\\users\\lenovo\\onedrive\\documents\\new\\lib\\site-packages (from requests<3,>=2.21.0->tensorboard<2.9,>=2.8->tensorflow) (1.26.7)\n",
      "Requirement already satisfied: charset-normalizer~=2.0.0 in c:\\users\\lenovo\\onedrive\\documents\\new\\lib\\site-packages (from requests<3,>=2.21.0->tensorboard<2.9,>=2.8->tensorflow) (2.0.4)\n",
      "Requirement already satisfied: idna<4,>=2.5 in c:\\users\\lenovo\\onedrive\\documents\\new\\lib\\site-packages (from requests<3,>=2.21.0->tensorboard<2.9,>=2.8->tensorflow) (3.2)\n",
      "Requirement already satisfied: certifi>=2017.4.17 in c:\\users\\lenovo\\onedrive\\documents\\new\\lib\\site-packages (from requests<3,>=2.21.0->tensorboard<2.9,>=2.8->tensorflow) (2021.10.8)\n",
      "Requirement already satisfied: zipp>=0.5 in c:\\users\\lenovo\\onedrive\\documents\\new\\lib\\site-packages (from importlib-metadata>=4.4->markdown>=2.6.8->tensorboard<2.9,>=2.8->tensorflow) (3.6.0)\n",
      "Requirement already satisfied: pyasn1<0.5.0,>=0.4.6 in c:\\users\\lenovo\\onedrive\\documents\\new\\lib\\site-packages (from pyasn1-modules>=0.2.1->google-auth<3,>=1.6.3->tensorboard<2.9,>=2.8->tensorflow) (0.4.8)\n",
      "Requirement already satisfied: oauthlib>=3.0.0 in c:\\users\\lenovo\\onedrive\\documents\\new\\lib\\site-packages (from requests-oauthlib>=0.7.0->google-auth-oauthlib<0.5,>=0.4.1->tensorboard<2.9,>=2.8->tensorflow) (3.2.0)\n"
     ]
    },
    {
     "name": "stderr",
     "output_type": "stream",
     "text": [
      "WARNING: You are using pip version 22.0.3; however, version 22.0.4 is available.\n",
      "You should consider upgrading via the 'C:\\Users\\lenovo\\OneDrive\\Documents\\new\\python.exe -m pip install --upgrade pip' command.\n"
     ]
    }
   ],
   "source": [
    "!pip install tensorflow"
   ]
  },
  {
   "cell_type": "code",
   "execution_count": 34,
   "id": "3f34792e",
   "metadata": {},
   "outputs": [],
   "source": [
    "#Building the RNN\n",
    "#importing the keras libraries and packages\n",
    "from keras.models import Sequential\n",
    "from keras.layers import Dense\n",
    "from keras.layers import LSTM\n",
    "from keras.layers import Dropout\n"
   ]
  },
  {
   "cell_type": "code",
   "execution_count": 35,
   "id": "73bd55dc",
   "metadata": {},
   "outputs": [],
   "source": [
    "#initialising the RNN\n",
    "regressor=Sequential()"
   ]
  },
  {
   "cell_type": "code",
   "execution_count": 36,
   "id": "42abfad2",
   "metadata": {},
   "outputs": [],
   "source": [
    "#Adding the first LSTM layer and some Dropout regularisation\n",
    "regressor.add(LSTM(units=50,return_sequences=True,input_shape=(X_train.shape[1],1)))\n",
    "regressor.add(Dropout(0.2))\n",
    "\n",
    "#Adding a second LSTM layer and some Dropout regularisation\n",
    "regressor.add(LSTM(units=50,return_sequences=True))\n",
    "regressor.add(Dropout(0.2))\n",
    "\n",
    "#Adding a third LSTM layer and some Dropout regularisation\n",
    "regressor.add(LSTM(units=50,return_sequences=True))\n",
    "regressor.add(Dropout(0.2))\n",
    "\n",
    "#Adding a fourth LSTM layer and some Dropout regularisation\n",
    "regressor.add(LSTM(units=50))"
   ]
  },
  {
   "cell_type": "code",
   "execution_count": 37,
   "id": "4ae5a1f4",
   "metadata": {},
   "outputs": [
    {
     "name": "stdout",
     "output_type": "stream",
     "text": [
      "Epoch 1/100\n",
      "6/6 [==============================] - 6s 69ms/step - loss: 0.3203\n",
      "Epoch 2/100\n",
      "6/6 [==============================] - 0s 66ms/step - loss: 0.2104\n",
      "Epoch 3/100\n",
      "6/6 [==============================] - 1s 88ms/step - loss: 0.0964\n",
      "Epoch 4/100\n",
      "6/6 [==============================] - 0s 70ms/step - loss: 0.0633\n",
      "Epoch 5/100\n",
      "6/6 [==============================] - 1s 94ms/step - loss: 0.0544\n",
      "Epoch 6/100\n",
      "6/6 [==============================] - 0s 78ms/step - loss: 0.0479\n",
      "Epoch 7/100\n",
      "6/6 [==============================] - 0s 72ms/step - loss: 0.0445\n",
      "Epoch 8/100\n",
      "6/6 [==============================] - 0s 79ms/step - loss: 0.0439\n",
      "Epoch 9/100\n",
      "6/6 [==============================] - 0s 75ms/step - loss: 0.0436\n",
      "Epoch 10/100\n",
      "6/6 [==============================] - 0s 62ms/step - loss: 0.0430\n",
      "Epoch 11/100\n",
      "6/6 [==============================] - 0s 62ms/step - loss: 0.0427\n",
      "Epoch 12/100\n",
      "6/6 [==============================] - 0s 81ms/step - loss: 0.0423\n",
      "Epoch 13/100\n",
      "6/6 [==============================] - 0s 69ms/step - loss: 0.0427\n",
      "Epoch 14/100\n",
      "6/6 [==============================] - 0s 74ms/step - loss: 0.0425\n",
      "Epoch 15/100\n",
      "6/6 [==============================] - 0s 72ms/step - loss: 0.0428\n",
      "Epoch 16/100\n",
      "6/6 [==============================] - 0s 72ms/step - loss: 0.0425\n",
      "Epoch 17/100\n",
      "6/6 [==============================] - 0s 83ms/step - loss: 0.0425\n",
      "Epoch 18/100\n",
      "6/6 [==============================] - 0s 73ms/step - loss: 0.0424\n",
      "Epoch 19/100\n",
      "6/6 [==============================] - 1s 86ms/step - loss: 0.0421\n",
      "Epoch 20/100\n",
      "6/6 [==============================] - 0s 70ms/step - loss: 0.0415\n",
      "Epoch 21/100\n",
      "6/6 [==============================] - 1s 84ms/step - loss: 0.0407\n",
      "Epoch 22/100\n",
      "6/6 [==============================] - 0s 68ms/step - loss: 0.0394\n",
      "Epoch 23/100\n",
      "6/6 [==============================] - 0s 74ms/step - loss: 0.0377\n",
      "Epoch 24/100\n",
      "6/6 [==============================] - 1s 85ms/step - loss: 0.0329\n",
      "Epoch 25/100\n",
      "6/6 [==============================] - 0s 64ms/step - loss: 0.0252\n",
      "Epoch 26/100\n",
      "6/6 [==============================] - 0s 66ms/step - loss: 0.0321\n",
      "Epoch 27/100\n",
      "6/6 [==============================] - 0s 64ms/step - loss: 0.0447\n",
      "Epoch 28/100\n",
      "6/6 [==============================] - 0s 65ms/step - loss: 0.0404\n",
      "Epoch 29/100\n",
      "6/6 [==============================] - 0s 68ms/step - loss: 0.0311\n",
      "Epoch 30/100\n",
      "6/6 [==============================] - 0s 67ms/step - loss: 0.0245\n",
      "Epoch 31/100\n",
      "6/6 [==============================] - 0s 70ms/step - loss: 0.0207\n",
      "Epoch 32/100\n",
      "6/6 [==============================] - 0s 68ms/step - loss: 0.0184\n",
      "Epoch 33/100\n",
      "6/6 [==============================] - 0s 63ms/step - loss: 0.0180\n",
      "Epoch 34/100\n",
      "6/6 [==============================] - 0s 71ms/step - loss: 0.0179\n",
      "Epoch 35/100\n",
      "6/6 [==============================] - 0s 64ms/step - loss: 0.0190\n",
      "Epoch 36/100\n",
      "6/6 [==============================] - 0s 66ms/step - loss: 0.0195\n",
      "Epoch 37/100\n",
      "6/6 [==============================] - 0s 69ms/step - loss: 0.0186\n",
      "Epoch 38/100\n",
      "6/6 [==============================] - 0s 65ms/step - loss: 0.0186\n",
      "Epoch 39/100\n",
      "6/6 [==============================] - 0s 63ms/step - loss: 0.0165\n",
      "Epoch 40/100\n",
      "6/6 [==============================] - 0s 67ms/step - loss: 0.0143\n",
      "Epoch 41/100\n",
      "6/6 [==============================] - 0s 65ms/step - loss: 0.0137\n",
      "Epoch 42/100\n",
      "6/6 [==============================] - 0s 70ms/step - loss: 0.0138\n",
      "Epoch 43/100\n",
      "6/6 [==============================] - 0s 66ms/step - loss: 0.0119\n",
      "Epoch 44/100\n",
      "6/6 [==============================] - 0s 61ms/step - loss: 0.0124\n",
      "Epoch 45/100\n",
      "6/6 [==============================] - 0s 65ms/step - loss: 0.0113\n",
      "Epoch 46/100\n",
      "6/6 [==============================] - 0s 64ms/step - loss: 0.0110\n",
      "Epoch 47/100\n",
      "6/6 [==============================] - 0s 65ms/step - loss: 0.0106\n",
      "Epoch 48/100\n",
      "6/6 [==============================] - 0s 85ms/step - loss: 0.0093\n",
      "Epoch 49/100\n",
      "6/6 [==============================] - 0s 73ms/step - loss: 0.0100\n",
      "Epoch 50/100\n",
      "6/6 [==============================] - 0s 83ms/step - loss: 0.0096\n",
      "Epoch 51/100\n",
      "6/6 [==============================] - 0s 69ms/step - loss: 0.0100\n",
      "Epoch 52/100\n",
      "6/6 [==============================] - 0s 78ms/step - loss: 0.0094\n",
      "Epoch 53/100\n",
      "6/6 [==============================] - 0s 71ms/step - loss: 0.0096\n",
      "Epoch 54/100\n",
      "6/6 [==============================] - 0s 66ms/step - loss: 0.0078\n",
      "Epoch 55/100\n",
      "6/6 [==============================] - 0s 81ms/step - loss: 0.0078\n",
      "Epoch 56/100\n",
      "6/6 [==============================] - 0s 77ms/step - loss: 0.0091\n",
      "Epoch 57/100\n",
      "6/6 [==============================] - 0s 76ms/step - loss: 0.0076\n",
      "Epoch 58/100\n",
      "6/6 [==============================] - 0s 67ms/step - loss: 0.0081\n",
      "Epoch 59/100\n",
      "6/6 [==============================] - 0s 78ms/step - loss: 0.0088\n",
      "Epoch 60/100\n",
      "6/6 [==============================] - 0s 69ms/step - loss: 0.0090\n",
      "Epoch 61/100\n",
      "6/6 [==============================] - 0s 66ms/step - loss: 0.0075\n",
      "Epoch 62/100\n",
      "6/6 [==============================] - 0s 65ms/step - loss: 0.0076\n",
      "Epoch 63/100\n",
      "6/6 [==============================] - 0s 69ms/step - loss: 0.0067\n",
      "Epoch 64/100\n",
      "6/6 [==============================] - 0s 63ms/step - loss: 0.0069\n",
      "Epoch 65/100\n",
      "6/6 [==============================] - 0s 65ms/step - loss: 0.0062\n",
      "Epoch 66/100\n",
      "6/6 [==============================] - 0s 81ms/step - loss: 0.0064\n",
      "Epoch 67/100\n",
      "6/6 [==============================] - 0s 67ms/step - loss: 0.0059\n",
      "Epoch 68/100\n",
      "6/6 [==============================] - 0s 72ms/step - loss: 0.0060\n",
      "Epoch 69/100\n",
      "6/6 [==============================] - 0s 69ms/step - loss: 0.0059\n",
      "Epoch 70/100\n",
      "6/6 [==============================] - 0s 64ms/step - loss: 0.0051\n",
      "Epoch 71/100\n",
      "6/6 [==============================] - 0s 63ms/step - loss: 0.0051\n",
      "Epoch 72/100\n",
      "6/6 [==============================] - 0s 63ms/step - loss: 0.0061\n",
      "Epoch 73/100\n",
      "6/6 [==============================] - 0s 66ms/step - loss: 0.0050\n",
      "Epoch 74/100\n",
      "6/6 [==============================] - 0s 68ms/step - loss: 0.0043\n",
      "Epoch 75/100\n",
      "6/6 [==============================] - 0s 68ms/step - loss: 0.0044\n",
      "Epoch 76/100\n",
      "6/6 [==============================] - 0s 82ms/step - loss: 0.0049\n",
      "Epoch 77/100\n",
      "6/6 [==============================] - 0s 68ms/step - loss: 0.0039\n",
      "Epoch 78/100\n",
      "6/6 [==============================] - 0s 76ms/step - loss: 0.0038\n",
      "Epoch 79/100\n",
      "6/6 [==============================] - 0s 69ms/step - loss: 0.0051\n",
      "Epoch 80/100\n",
      "6/6 [==============================] - 0s 68ms/step - loss: 0.0039\n",
      "Epoch 81/100\n",
      "6/6 [==============================] - 0s 62ms/step - loss: 0.0040\n",
      "Epoch 82/100\n",
      "6/6 [==============================] - 0s 63ms/step - loss: 0.0037\n",
      "Epoch 83/100\n",
      "6/6 [==============================] - 0s 64ms/step - loss: 0.0045\n",
      "Epoch 84/100\n",
      "6/6 [==============================] - 0s 64ms/step - loss: 0.0056\n",
      "Epoch 85/100\n",
      "6/6 [==============================] - 0s 72ms/step - loss: 0.0040\n",
      "Epoch 86/100\n",
      "6/6 [==============================] - 0s 67ms/step - loss: 0.0041\n",
      "Epoch 87/100\n",
      "6/6 [==============================] - 0s 67ms/step - loss: 0.0047\n",
      "Epoch 88/100\n",
      "6/6 [==============================] - 0s 70ms/step - loss: 0.0041\n",
      "Epoch 89/100\n",
      "6/6 [==============================] - 0s 62ms/step - loss: 0.0040\n",
      "Epoch 90/100\n",
      "6/6 [==============================] - 0s 64ms/step - loss: 0.0036\n",
      "Epoch 91/100\n",
      "6/6 [==============================] - 0s 70ms/step - loss: 0.0036\n",
      "Epoch 92/100\n",
      "6/6 [==============================] - 1s 89ms/step - loss: 0.0045\n",
      "Epoch 93/100\n",
      "6/6 [==============================] - 0s 70ms/step - loss: 0.0038\n",
      "Epoch 94/100\n",
      "6/6 [==============================] - 1s 90ms/step - loss: 0.0052\n",
      "Epoch 95/100\n",
      "6/6 [==============================] - 1s 96ms/step - loss: 0.0047\n",
      "Epoch 96/100\n",
      "6/6 [==============================] - 1s 93ms/step - loss: 0.0042\n",
      "Epoch 97/100\n",
      "6/6 [==============================] - 0s 77ms/step - loss: 0.0039\n",
      "Epoch 98/100\n",
      "6/6 [==============================] - 0s 71ms/step - loss: 0.0034\n",
      "Epoch 99/100\n",
      "6/6 [==============================] - 0s 77ms/step - loss: 0.0037\n",
      "Epoch 100/100\n",
      "6/6 [==============================] - 0s 78ms/step - loss: 0.0034\n"
     ]
    },
    {
     "data": {
      "text/plain": [
       "<keras.callbacks.History at 0x269d43cffa0>"
      ]
     },
     "execution_count": 37,
     "metadata": {},
     "output_type": "execute_result"
    }
   ],
   "source": [
    "#Compelling the RNN\n",
    "regressor.compile(optimizer='adam', loss='mean_squared_error')\n",
    "\n",
    "#Fitting the RNN to the training set\n",
    "regressor.fit(X_train,y_train,epochs=100,batch_size=32)"
   ]
  },
  {
   "cell_type": "code",
   "execution_count": 38,
   "id": "f4cb8c18",
   "metadata": {},
   "outputs": [],
   "source": [
    "#Making the prediction and visualizing the results\n",
    "#Getting the real stock rice of 2021\n",
    "dataset_test=pd.read_csv(\"C:/Users/lenovo/Downloads/RELIANCE.NS (1).csv\",\n",
    "                        index_col='Date',parse_dates=True)"
   ]
  },
  {
   "cell_type": "code",
   "execution_count": 39,
   "id": "ed2aad19",
   "metadata": {},
   "outputs": [],
   "source": [
    "real_stock_price=dataset_test.iloc[:,1:2].values"
   ]
  },
  {
   "cell_type": "code",
   "execution_count": 40,
   "id": "f97a8a08",
   "metadata": {},
   "outputs": [
    {
     "data": {
      "text/html": [
       "<div>\n",
       "<style scoped>\n",
       "    .dataframe tbody tr th:only-of-type {\n",
       "        vertical-align: middle;\n",
       "    }\n",
       "\n",
       "    .dataframe tbody tr th {\n",
       "        vertical-align: top;\n",
       "    }\n",
       "\n",
       "    .dataframe thead th {\n",
       "        text-align: right;\n",
       "    }\n",
       "</style>\n",
       "<table border=\"1\" class=\"dataframe\">\n",
       "  <thead>\n",
       "    <tr style=\"text-align: right;\">\n",
       "      <th></th>\n",
       "      <th>Open</th>\n",
       "      <th>High</th>\n",
       "      <th>Low</th>\n",
       "      <th>Close</th>\n",
       "      <th>Adj Close</th>\n",
       "      <th>Volume</th>\n",
       "    </tr>\n",
       "    <tr>\n",
       "      <th>Date</th>\n",
       "      <th></th>\n",
       "      <th></th>\n",
       "      <th></th>\n",
       "      <th></th>\n",
       "      <th></th>\n",
       "      <th></th>\n",
       "    </tr>\n",
       "  </thead>\n",
       "  <tbody>\n",
       "    <tr>\n",
       "      <th>2021-03-05</th>\n",
       "      <td>2156.000000</td>\n",
       "      <td>2211.949951</td>\n",
       "      <td>2153.050049</td>\n",
       "      <td>2178.699951</td>\n",
       "      <td>2171.713623</td>\n",
       "      <td>11773630</td>\n",
       "    </tr>\n",
       "    <tr>\n",
       "      <th>2021-03-08</th>\n",
       "      <td>2168.500000</td>\n",
       "      <td>2231.899902</td>\n",
       "      <td>2168.000000</td>\n",
       "      <td>2191.100098</td>\n",
       "      <td>2184.073975</td>\n",
       "      <td>9002404</td>\n",
       "    </tr>\n",
       "    <tr>\n",
       "      <th>2021-03-09</th>\n",
       "      <td>2200.000000</td>\n",
       "      <td>2213.800049</td>\n",
       "      <td>2146.600098</td>\n",
       "      <td>2191.050049</td>\n",
       "      <td>2184.024170</td>\n",
       "      <td>6993792</td>\n",
       "    </tr>\n",
       "    <tr>\n",
       "      <th>2021-03-10</th>\n",
       "      <td>2207.000000</td>\n",
       "      <td>2215.100098</td>\n",
       "      <td>2170.250000</td>\n",
       "      <td>2181.949951</td>\n",
       "      <td>2174.953369</td>\n",
       "      <td>5316182</td>\n",
       "    </tr>\n",
       "    <tr>\n",
       "      <th>2021-03-12</th>\n",
       "      <td>2195.000000</td>\n",
       "      <td>2206.399902</td>\n",
       "      <td>2123.899902</td>\n",
       "      <td>2137.600098</td>\n",
       "      <td>2130.745605</td>\n",
       "      <td>7783173</td>\n",
       "    </tr>\n",
       "    <tr>\n",
       "      <th>...</th>\n",
       "      <td>...</td>\n",
       "      <td>...</td>\n",
       "      <td>...</td>\n",
       "      <td>...</td>\n",
       "      <td>...</td>\n",
       "      <td>...</td>\n",
       "    </tr>\n",
       "    <tr>\n",
       "      <th>2022-02-25</th>\n",
       "      <td>2280.100098</td>\n",
       "      <td>2307.949951</td>\n",
       "      <td>2276.250000</td>\n",
       "      <td>2283.949951</td>\n",
       "      <td>2283.949951</td>\n",
       "      <td>6724094</td>\n",
       "    </tr>\n",
       "    <tr>\n",
       "      <th>2022-02-28</th>\n",
       "      <td>2243.000000</td>\n",
       "      <td>2367.350098</td>\n",
       "      <td>2243.000000</td>\n",
       "      <td>2359.550049</td>\n",
       "      <td>2359.550049</td>\n",
       "      <td>9828768</td>\n",
       "    </tr>\n",
       "    <tr>\n",
       "      <th>2022-03-02</th>\n",
       "      <td>2334.449951</td>\n",
       "      <td>2401.000000</td>\n",
       "      <td>2329.199951</td>\n",
       "      <td>2398.550049</td>\n",
       "      <td>2398.550049</td>\n",
       "      <td>9909226</td>\n",
       "    </tr>\n",
       "    <tr>\n",
       "      <th>2022-03-03</th>\n",
       "      <td>2400.000000</td>\n",
       "      <td>2414.850098</td>\n",
       "      <td>2370.050049</td>\n",
       "      <td>2378.300049</td>\n",
       "      <td>2378.300049</td>\n",
       "      <td>4701183</td>\n",
       "    </tr>\n",
       "    <tr>\n",
       "      <th>2022-03-04</th>\n",
       "      <td>2353.000000</td>\n",
       "      <td>2364.300049</td>\n",
       "      <td>2320.350098</td>\n",
       "      <td>2325.550049</td>\n",
       "      <td>2325.550049</td>\n",
       "      <td>4986325</td>\n",
       "    </tr>\n",
       "  </tbody>\n",
       "</table>\n",
       "<p>247 rows × 6 columns</p>\n",
       "</div>"
      ],
      "text/plain": [
       "                   Open         High          Low        Close    Adj Close  \\\n",
       "Date                                                                          \n",
       "2021-03-05  2156.000000  2211.949951  2153.050049  2178.699951  2171.713623   \n",
       "2021-03-08  2168.500000  2231.899902  2168.000000  2191.100098  2184.073975   \n",
       "2021-03-09  2200.000000  2213.800049  2146.600098  2191.050049  2184.024170   \n",
       "2021-03-10  2207.000000  2215.100098  2170.250000  2181.949951  2174.953369   \n",
       "2021-03-12  2195.000000  2206.399902  2123.899902  2137.600098  2130.745605   \n",
       "...                 ...          ...          ...          ...          ...   \n",
       "2022-02-25  2280.100098  2307.949951  2276.250000  2283.949951  2283.949951   \n",
       "2022-02-28  2243.000000  2367.350098  2243.000000  2359.550049  2359.550049   \n",
       "2022-03-02  2334.449951  2401.000000  2329.199951  2398.550049  2398.550049   \n",
       "2022-03-03  2400.000000  2414.850098  2370.050049  2378.300049  2378.300049   \n",
       "2022-03-04  2353.000000  2364.300049  2320.350098  2325.550049  2325.550049   \n",
       "\n",
       "              Volume  \n",
       "Date                  \n",
       "2021-03-05  11773630  \n",
       "2021-03-08   9002404  \n",
       "2021-03-09   6993792  \n",
       "2021-03-10   5316182  \n",
       "2021-03-12   7783173  \n",
       "...              ...  \n",
       "2022-02-25   6724094  \n",
       "2022-02-28   9828768  \n",
       "2022-03-02   9909226  \n",
       "2022-03-03   4701183  \n",
       "2022-03-04   4986325  \n",
       "\n",
       "[247 rows x 6 columns]"
      ]
     },
     "execution_count": 40,
     "metadata": {},
     "output_type": "execute_result"
    }
   ],
   "source": [
    "dataset_test"
   ]
  },
  {
   "cell_type": "code",
   "execution_count": 41,
   "id": "759cfc70",
   "metadata": {},
   "outputs": [
    {
     "name": "stdout",
     "output_type": "stream",
     "text": [
      "<class 'pandas.core.frame.DataFrame'>\n",
      "DatetimeIndex: 247 entries, 2021-03-05 to 2022-03-04\n",
      "Data columns (total 6 columns):\n",
      " #   Column     Non-Null Count  Dtype  \n",
      "---  ------     --------------  -----  \n",
      " 0   Open       247 non-null    float64\n",
      " 1   High       247 non-null    float64\n",
      " 2   Low        247 non-null    float64\n",
      " 3   Close      247 non-null    float64\n",
      " 4   Adj Close  247 non-null    float64\n",
      " 5   Volume     247 non-null    int64  \n",
      "dtypes: float64(5), int64(1)\n",
      "memory usage: 13.5 KB\n"
     ]
    }
   ],
   "source": [
    "dataset_test.info()"
   ]
  },
  {
   "cell_type": "code",
   "execution_count": null,
   "id": "ff1e605e",
   "metadata": {},
   "outputs": [],
   "source": []
  }
 ],
 "metadata": {
  "kernelspec": {
   "display_name": "Python 3 (ipykernel)",
   "language": "python",
   "name": "python3"
  },
  "language_info": {
   "codemirror_mode": {
    "name": "ipython",
    "version": 3
   },
   "file_extension": ".py",
   "mimetype": "text/x-python",
   "name": "python",
   "nbconvert_exporter": "python",
   "pygments_lexer": "ipython3",
   "version": "3.9.7"
  }
 },
 "nbformat": 4,
 "nbformat_minor": 5
}
