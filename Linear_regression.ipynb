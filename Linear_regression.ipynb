{
 "cells": [
  {
   "cell_type": "code",
   "execution_count": 17,
   "id": "5a737dd2",
   "metadata": {},
   "outputs": [],
   "source": [
    "from sklearn.model_selection import train_test_split\n",
    "from sklearn import linear_model\n",
    "from sklearn import metrics"
   ]
  },
  {
   "cell_type": "code",
   "execution_count": 22,
   "id": "f7b22815",
   "metadata": {},
   "outputs": [],
   "source": [
    "import pandas as pd\n",
    "import numpy as np\n",
    "import matplotlib.pyplot as plt\n",
    "%matplotlib inLine"
   ]
  },
  {
   "cell_type": "code",
   "execution_count": 23,
   "id": "6662a9b6",
   "metadata": {},
   "outputs": [
    {
     "data": {
      "text/html": [
       "<div>\n",
       "<style scoped>\n",
       "    .dataframe tbody tr th:only-of-type {\n",
       "        vertical-align: middle;\n",
       "    }\n",
       "\n",
       "    .dataframe tbody tr th {\n",
       "        vertical-align: top;\n",
       "    }\n",
       "\n",
       "    .dataframe thead th {\n",
       "        text-align: right;\n",
       "    }\n",
       "</style>\n",
       "<table border=\"1\" class=\"dataframe\">\n",
       "  <thead>\n",
       "    <tr style=\"text-align: right;\">\n",
       "      <th></th>\n",
       "      <th>Date</th>\n",
       "      <th>Open</th>\n",
       "      <th>High</th>\n",
       "      <th>Low</th>\n",
       "      <th>Close</th>\n",
       "      <th>Adj Close</th>\n",
       "      <th>Volume</th>\n",
       "    </tr>\n",
       "  </thead>\n",
       "  <tbody>\n",
       "    <tr>\n",
       "      <th>0</th>\n",
       "      <td>2021-03-05</td>\n",
       "      <td>2156.000000</td>\n",
       "      <td>2211.949951</td>\n",
       "      <td>2153.050049</td>\n",
       "      <td>2178.699951</td>\n",
       "      <td>2171.713623</td>\n",
       "      <td>11773630</td>\n",
       "    </tr>\n",
       "    <tr>\n",
       "      <th>1</th>\n",
       "      <td>2021-03-08</td>\n",
       "      <td>2168.500000</td>\n",
       "      <td>2231.899902</td>\n",
       "      <td>2168.000000</td>\n",
       "      <td>2191.100098</td>\n",
       "      <td>2184.073975</td>\n",
       "      <td>9002404</td>\n",
       "    </tr>\n",
       "    <tr>\n",
       "      <th>2</th>\n",
       "      <td>2021-03-09</td>\n",
       "      <td>2200.000000</td>\n",
       "      <td>2213.800049</td>\n",
       "      <td>2146.600098</td>\n",
       "      <td>2191.050049</td>\n",
       "      <td>2184.024170</td>\n",
       "      <td>6993792</td>\n",
       "    </tr>\n",
       "    <tr>\n",
       "      <th>3</th>\n",
       "      <td>2021-03-10</td>\n",
       "      <td>2207.000000</td>\n",
       "      <td>2215.100098</td>\n",
       "      <td>2170.250000</td>\n",
       "      <td>2181.949951</td>\n",
       "      <td>2174.953369</td>\n",
       "      <td>5316182</td>\n",
       "    </tr>\n",
       "    <tr>\n",
       "      <th>4</th>\n",
       "      <td>2021-03-12</td>\n",
       "      <td>2195.000000</td>\n",
       "      <td>2206.399902</td>\n",
       "      <td>2123.899902</td>\n",
       "      <td>2137.600098</td>\n",
       "      <td>2130.745605</td>\n",
       "      <td>7783173</td>\n",
       "    </tr>\n",
       "    <tr>\n",
       "      <th>...</th>\n",
       "      <td>...</td>\n",
       "      <td>...</td>\n",
       "      <td>...</td>\n",
       "      <td>...</td>\n",
       "      <td>...</td>\n",
       "      <td>...</td>\n",
       "      <td>...</td>\n",
       "    </tr>\n",
       "    <tr>\n",
       "      <th>242</th>\n",
       "      <td>2022-02-25</td>\n",
       "      <td>2280.100098</td>\n",
       "      <td>2307.949951</td>\n",
       "      <td>2276.250000</td>\n",
       "      <td>2283.949951</td>\n",
       "      <td>2283.949951</td>\n",
       "      <td>6724094</td>\n",
       "    </tr>\n",
       "    <tr>\n",
       "      <th>243</th>\n",
       "      <td>2022-02-28</td>\n",
       "      <td>2243.000000</td>\n",
       "      <td>2367.350098</td>\n",
       "      <td>2243.000000</td>\n",
       "      <td>2359.550049</td>\n",
       "      <td>2359.550049</td>\n",
       "      <td>9828768</td>\n",
       "    </tr>\n",
       "    <tr>\n",
       "      <th>244</th>\n",
       "      <td>2022-03-02</td>\n",
       "      <td>2334.449951</td>\n",
       "      <td>2401.000000</td>\n",
       "      <td>2329.199951</td>\n",
       "      <td>2398.550049</td>\n",
       "      <td>2398.550049</td>\n",
       "      <td>9909226</td>\n",
       "    </tr>\n",
       "    <tr>\n",
       "      <th>245</th>\n",
       "      <td>2022-03-03</td>\n",
       "      <td>2400.000000</td>\n",
       "      <td>2414.850098</td>\n",
       "      <td>2370.050049</td>\n",
       "      <td>2378.300049</td>\n",
       "      <td>2378.300049</td>\n",
       "      <td>4701183</td>\n",
       "    </tr>\n",
       "    <tr>\n",
       "      <th>246</th>\n",
       "      <td>2022-03-04</td>\n",
       "      <td>2353.000000</td>\n",
       "      <td>2364.300049</td>\n",
       "      <td>2320.350098</td>\n",
       "      <td>2325.550049</td>\n",
       "      <td>2325.550049</td>\n",
       "      <td>4986325</td>\n",
       "    </tr>\n",
       "  </tbody>\n",
       "</table>\n",
       "<p>247 rows × 7 columns</p>\n",
       "</div>"
      ],
      "text/plain": [
       "           Date         Open         High          Low        Close  \\\n",
       "0    2021-03-05  2156.000000  2211.949951  2153.050049  2178.699951   \n",
       "1    2021-03-08  2168.500000  2231.899902  2168.000000  2191.100098   \n",
       "2    2021-03-09  2200.000000  2213.800049  2146.600098  2191.050049   \n",
       "3    2021-03-10  2207.000000  2215.100098  2170.250000  2181.949951   \n",
       "4    2021-03-12  2195.000000  2206.399902  2123.899902  2137.600098   \n",
       "..          ...          ...          ...          ...          ...   \n",
       "242  2022-02-25  2280.100098  2307.949951  2276.250000  2283.949951   \n",
       "243  2022-02-28  2243.000000  2367.350098  2243.000000  2359.550049   \n",
       "244  2022-03-02  2334.449951  2401.000000  2329.199951  2398.550049   \n",
       "245  2022-03-03  2400.000000  2414.850098  2370.050049  2378.300049   \n",
       "246  2022-03-04  2353.000000  2364.300049  2320.350098  2325.550049   \n",
       "\n",
       "       Adj Close    Volume  \n",
       "0    2171.713623  11773630  \n",
       "1    2184.073975   9002404  \n",
       "2    2184.024170   6993792  \n",
       "3    2174.953369   5316182  \n",
       "4    2130.745605   7783173  \n",
       "..           ...       ...  \n",
       "242  2283.949951   6724094  \n",
       "243  2359.550049   9828768  \n",
       "244  2398.550049   9909226  \n",
       "245  2378.300049   4701183  \n",
       "246  2325.550049   4986325  \n",
       "\n",
       "[247 rows x 7 columns]"
      ]
     },
     "execution_count": 23,
     "metadata": {},
     "output_type": "execute_result"
    }
   ],
   "source": [
    "df=pd.read_csv(\"C:/Users/lenovo/Downloads/RELIANCE.NS (1).csv\")\n",
    "df"
   ]
  },
  {
   "cell_type": "code",
   "execution_count": 19,
   "id": "ae18a60d",
   "metadata": {},
   "outputs": [],
   "source": [
    "reg=linear_model.LinearRegression()"
   ]
  },
  {
   "cell_type": "code",
   "execution_count": 28,
   "id": "a30187dd",
   "metadata": {},
   "outputs": [
    {
     "data": {
      "text/plain": [
       "LinearRegression()"
      ]
     },
     "execution_count": 28,
     "metadata": {},
     "output_type": "execute_result"
    }
   ],
   "source": [
    "reg.fit(df[['High','Low','Close','Volume']],df.Open)"
   ]
  },
  {
   "cell_type": "code",
   "execution_count": 33,
   "id": "3e60159c",
   "metadata": {},
   "outputs": [
    {
     "data": {
      "text/plain": [
       "array([2357.41913245])"
      ]
     },
     "execution_count": 33,
     "metadata": {},
     "output_type": "execute_result"
    }
   ],
   "source": [
    "reg.predict([[2364.3,2320.35,2325.55,4986325]])"
   ]
  },
  {
   "cell_type": "code",
   "execution_count": null,
   "id": "cb2655e4",
   "metadata": {},
   "outputs": [],
   "source": []
  }
 ],
 "metadata": {
  "kernelspec": {
   "display_name": "Python 3 (ipykernel)",
   "language": "python",
   "name": "python3"
  },
  "language_info": {
   "codemirror_mode": {
    "name": "ipython",
    "version": 3
   },
   "file_extension": ".py",
   "mimetype": "text/x-python",
   "name": "python",
   "nbconvert_exporter": "python",
   "pygments_lexer": "ipython3",
   "version": "3.9.7"
  }
 },
 "nbformat": 4,
 "nbformat_minor": 5
}
